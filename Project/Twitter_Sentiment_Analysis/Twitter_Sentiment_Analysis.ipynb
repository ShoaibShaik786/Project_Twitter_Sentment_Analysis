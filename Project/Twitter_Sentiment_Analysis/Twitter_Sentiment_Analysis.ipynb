{
 "cells": [
  {
   "cell_type": "markdown",
   "metadata": {
    "colab_type": "text",
    "id": "E0bSNJ90cDPD"
   },
   "source": [
    "### CSE-221710302060-Shaik Shoaib Aslam"
   ]
  },
  {
   "cell_type": "markdown",
   "metadata": {
    "colab_type": "text",
    "id": "as1YdLyDcDPE"
   },
   "source": [
    "### Twitter Sentiment Analysis"
   ]
  },
  {
   "cell_type": "code",
   "execution_count": 1,
   "metadata": {
    "colab": {},
    "colab_type": "code",
    "id": "x-mAJCBecDPF"
   },
   "outputs": [],
   "source": [
    "# Importing Required libraries\n",
    "import pandas as pd\n",
    "import numpy as np\n",
    "import seaborn as sns\n",
    "import re"
   ]
  },
  {
   "cell_type": "code",
   "execution_count": 2,
   "metadata": {
    "colab": {
     "base_uri": "https://localhost:8080/",
     "height": 195
    },
    "colab_type": "code",
    "id": "-IJVj7fZcDPI",
    "outputId": "61c723cb-5b89-4b5d-9b3d-391b4584aa58"
   },
   "outputs": [
    {
     "data": {
      "text/html": [
       "<div>\n",
       "<style scoped>\n",
       "    .dataframe tbody tr th:only-of-type {\n",
       "        vertical-align: middle;\n",
       "    }\n",
       "\n",
       "    .dataframe tbody tr th {\n",
       "        vertical-align: top;\n",
       "    }\n",
       "\n",
       "    .dataframe thead th {\n",
       "        text-align: right;\n",
       "    }\n",
       "</style>\n",
       "<table border=\"1\" class=\"dataframe\">\n",
       "  <thead>\n",
       "    <tr style=\"text-align: right;\">\n",
       "      <th></th>\n",
       "      <th>id</th>\n",
       "      <th>label</th>\n",
       "      <th>tweet</th>\n",
       "    </tr>\n",
       "  </thead>\n",
       "  <tbody>\n",
       "    <tr>\n",
       "      <th>0</th>\n",
       "      <td>1</td>\n",
       "      <td>0</td>\n",
       "      <td>@user when a father is dysfunctional and is s...</td>\n",
       "    </tr>\n",
       "    <tr>\n",
       "      <th>1</th>\n",
       "      <td>2</td>\n",
       "      <td>0</td>\n",
       "      <td>@user @user thanks for #lyft credit i can't us...</td>\n",
       "    </tr>\n",
       "    <tr>\n",
       "      <th>2</th>\n",
       "      <td>3</td>\n",
       "      <td>0</td>\n",
       "      <td>bihday your majesty</td>\n",
       "    </tr>\n",
       "    <tr>\n",
       "      <th>3</th>\n",
       "      <td>4</td>\n",
       "      <td>0</td>\n",
       "      <td>#model   i love u take with u all the time in ...</td>\n",
       "    </tr>\n",
       "    <tr>\n",
       "      <th>4</th>\n",
       "      <td>5</td>\n",
       "      <td>0</td>\n",
       "      <td>factsguide: society now    #motivation</td>\n",
       "    </tr>\n",
       "  </tbody>\n",
       "</table>\n",
       "</div>"
      ],
      "text/plain": [
       "   id  label                                              tweet\n",
       "0   1      0   @user when a father is dysfunctional and is s...\n",
       "1   2      0  @user @user thanks for #lyft credit i can't us...\n",
       "2   3      0                                bihday your majesty\n",
       "3   4      0  #model   i love u take with u all the time in ...\n",
       "4   5      0             factsguide: society now    #motivation"
      ]
     },
     "execution_count": 2,
     "metadata": {},
     "output_type": "execute_result"
    }
   ],
   "source": [
    "# Reading the dataset\n",
    "tweets=pd.read_csv(\"train.csv\",encoding = 'latin - 1')\n",
    "tweets.head()"
   ]
  },
  {
   "cell_type": "code",
   "execution_count": 3,
   "metadata": {
    "colab": {
     "base_uri": "https://localhost:8080/",
     "height": 67
    },
    "colab_type": "code",
    "id": "z286gZ2wcDPL",
    "outputId": "d18a0b49-0fa7-4c93-c315-50928195f7b3"
   },
   "outputs": [
    {
     "data": {
      "text/plain": [
       "0    29720\n",
       "1     2242\n",
       "Name: label, dtype: int64"
      ]
     },
     "execution_count": 3,
     "metadata": {},
     "output_type": "execute_result"
    }
   ],
   "source": [
    "tweets.label.value_counts()"
   ]
  },
  {
   "cell_type": "code",
   "execution_count": 4,
   "metadata": {
    "colab": {
     "base_uri": "https://localhost:8080/",
     "height": 296
    },
    "colab_type": "code",
    "id": "QMTuZvD1cDPN",
    "outputId": "10968a61-0bff-482e-ac7c-82772301b974"
   },
   "outputs": [
    {
     "data": {
      "text/plain": [
       "<matplotlib.axes._subplots.AxesSubplot at 0x206d8ffc5c8>"
      ]
     },
     "execution_count": 4,
     "metadata": {},
     "output_type": "execute_result"
    },
    {
     "data": {
      "image/png": "[encoded data removed]",
      "text/plain": [
       "<Figure size 432x288 with 1 Axes>"
      ]
     },
     "metadata": {
      "needs_background": "light"
     },
     "output_type": "display_data"
    }
   ],
   "source": [
    "sns.countplot(tweets.label)"
   ]
  },
  {
   "cell_type": "code",
   "execution_count": 5,
   "metadata": {
    "colab": {
     "base_uri": "https://localhost:8080/",
     "height": 34
    },
    "colab_type": "code",
    "id": "TCf80_-ZcDPP",
    "outputId": "49dc8689-7b95-4645-db5d-e3234aefb5ec"
   },
   "outputs": [
    {
     "data": {
      "text/plain": [
       "(31962, 3)"
      ]
     },
     "execution_count": 5,
     "metadata": {},
     "output_type": "execute_result"
    }
   ],
   "source": [
    "# Checking size of dataset\n",
    "tweets.shape"
   ]
  },
  {
   "cell_type": "code",
   "execution_count": 6,
   "metadata": {
    "colab": {
     "base_uri": "https://localhost:8080/",
     "height": 84
    },
    "colab_type": "code",
    "id": "Yu2r_nXvcDPS",
    "outputId": "1f446ecf-530f-4a5a-899e-cab52fd1d074"
   },
   "outputs": [
    {
     "data": {
      "text/plain": [
       "id       0\n",
       "label    0\n",
       "tweet    0\n",
       "dtype: int64"
      ]
     },
     "execution_count": 6,
     "metadata": {},
     "output_type": "execute_result"
    }
   ],
   "source": [
    "# Checking for NULL values\n",
    "tweets.isna().sum() # No NULL Values can be found"
   ]
  },
  {
   "cell_type": "code",
   "execution_count": 7,
   "metadata": {
    "colab": {
     "base_uri": "https://localhost:8080/",
     "height": 284
    },
    "colab_type": "code",
    "id": "EUKQETQ_cDPU",
    "outputId": "66c26ffc-caf0-440e-9d2a-522e3c20aad9"
   },
   "outputs": [
    {
     "data": {
      "text/html": [
       "<div>\n",
       "<style scoped>\n",
       "    .dataframe tbody tr th:only-of-type {\n",
       "        vertical-align: middle;\n",
       "    }\n",
       "\n",
       "    .dataframe tbody tr th {\n",
       "        vertical-align: top;\n",
       "    }\n",
       "\n",
       "    .dataframe thead th {\n",
       "        text-align: right;\n",
       "    }\n",
       "</style>\n",
       "<table border=\"1\" class=\"dataframe\">\n",
       "  <thead>\n",
       "    <tr style=\"text-align: right;\">\n",
       "      <th></th>\n",
       "      <th>id</th>\n",
       "      <th>label</th>\n",
       "    </tr>\n",
       "  </thead>\n",
       "  <tbody>\n",
       "    <tr>\n",
       "      <th>count</th>\n",
       "      <td>31962.000000</td>\n",
       "      <td>31962.000000</td>\n",
       "    </tr>\n",
       "    <tr>\n",
       "      <th>mean</th>\n",
       "      <td>15981.500000</td>\n",
       "      <td>0.070146</td>\n",
       "    </tr>\n",
       "    <tr>\n",
       "      <th>std</th>\n",
       "      <td>9226.778988</td>\n",
       "      <td>0.255397</td>\n",
       "    </tr>\n",
       "    <tr>\n",
       "      <th>min</th>\n",
       "      <td>1.000000</td>\n",
       "      <td>0.000000</td>\n",
       "    </tr>\n",
       "    <tr>\n",
       "      <th>25%</th>\n",
       "      <td>7991.250000</td>\n",
       "      <td>0.000000</td>\n",
       "    </tr>\n",
       "    <tr>\n",
       "      <th>50%</th>\n",
       "      <td>15981.500000</td>\n",
       "      <td>0.000000</td>\n",
       "    </tr>\n",
       "    <tr>\n",
       "      <th>75%</th>\n",
       "      <td>23971.750000</td>\n",
       "      <td>0.000000</td>\n",
       "    </tr>\n",
       "    <tr>\n",
       "      <th>max</th>\n",
       "      <td>31962.000000</td>\n",
       "      <td>1.000000</td>\n",
       "    </tr>\n",
       "  </tbody>\n",
       "</table>\n",
       "</div>"
      ],
      "text/plain": [
       "                 id         label\n",
       "count  31962.000000  31962.000000\n",
       "mean   15981.500000      0.070146\n",
       "std     9226.778988      0.255397\n",
       "min        1.000000      0.000000\n",
       "25%     7991.250000      0.000000\n",
       "50%    15981.500000      0.000000\n",
       "75%    23971.750000      0.000000\n",
       "max    31962.000000      1.000000"
      ]
     },
     "execution_count": 7,
     "metadata": {},
     "output_type": "execute_result"
    }
   ],
   "source": [
    "# Checking Statistical data \n",
    "tweets.describe()"
   ]
  },
  {
   "cell_type": "markdown",
   "metadata": {
    "colab_type": "text",
    "id": "oQGfwGrucDPW"
   },
   "source": [
    "#### Cleaning with nltk"
   ]
  },
  {
   "cell_type": "code",
   "execution_count": 8,
   "metadata": {
    "colab": {
     "base_uri": "https://localhost:8080/",
     "height": 67
    },
    "colab_type": "code",
    "id": "j0-fS-4-dwBC",
    "outputId": "ed668fbf-0bc4-45a2-8ecb-fe92bb6b2e75"
   },
   "outputs": [
    {
     "name": "stderr",
     "output_type": "stream",
     "text": [
      "[nltk_data] Downloading package stopwords to\n",
      "[nltk_data]     C:\\Users\\ShoaibShaik\\AppData\\Roaming\\nltk_data...\n",
      "[nltk_data]   Package stopwords is already up-to-date!\n"
     ]
    },
    {
     "data": {
      "text/plain": [
       "True"
      ]
     },
     "execution_count": 8,
     "metadata": {},
     "output_type": "execute_result"
    }
   ],
   "source": [
    "import nltk\n",
    "nltk.download('stopwords')"
   ]
  },
  {
   "cell_type": "code",
   "execution_count": 9,
   "metadata": {
    "colab": {
     "base_uri": "https://localhost:8080/",
     "height": 195
    },
    "colab_type": "code",
    "id": "OuKG6tSYcDPX",
    "outputId": "3c56641e-196a-47f3-b9b0-bb8e86465b28"
   },
   "outputs": [
    {
     "data": {
      "text/html": [
       "<div>\n",
       "<style scoped>\n",
       "    .dataframe tbody tr th:only-of-type {\n",
       "        vertical-align: middle;\n",
       "    }\n",
       "\n",
       "    .dataframe tbody tr th {\n",
       "        vertical-align: top;\n",
       "    }\n",
       "\n",
       "    .dataframe thead th {\n",
       "        text-align: right;\n",
       "    }\n",
       "</style>\n",
       "<table border=\"1\" class=\"dataframe\">\n",
       "  <thead>\n",
       "    <tr style=\"text-align: right;\">\n",
       "      <th></th>\n",
       "      <th>id</th>\n",
       "      <th>label</th>\n",
       "      <th>tweet</th>\n",
       "    </tr>\n",
       "  </thead>\n",
       "  <tbody>\n",
       "    <tr>\n",
       "      <th>0</th>\n",
       "      <td>1</td>\n",
       "      <td>0</td>\n",
       "      <td>@user father dysfunctional selfish drags kids ...</td>\n",
       "    </tr>\n",
       "    <tr>\n",
       "      <th>1</th>\n",
       "      <td>2</td>\n",
       "      <td>0</td>\n",
       "      <td>@user @user thanks #lyft credit can't use caus...</td>\n",
       "    </tr>\n",
       "    <tr>\n",
       "      <th>2</th>\n",
       "      <td>3</td>\n",
       "      <td>0</td>\n",
       "      <td>bihday majesty</td>\n",
       "    </tr>\n",
       "    <tr>\n",
       "      <th>3</th>\n",
       "      <td>4</td>\n",
       "      <td>0</td>\n",
       "      <td>#model love u take u time urÃ°ÂÂÂ±!!! Ã°ÂÂ...</td>\n",
       "    </tr>\n",
       "    <tr>\n",
       "      <th>4</th>\n",
       "      <td>5</td>\n",
       "      <td>0</td>\n",
       "      <td>factsguide: society #motivation</td>\n",
       "    </tr>\n",
       "  </tbody>\n",
       "</table>\n",
       "</div>"
      ],
      "text/plain": [
       "   id  label                                              tweet\n",
       "0   1      0  @user father dysfunctional selfish drags kids ...\n",
       "1   2      0  @user @user thanks #lyft credit can't use caus...\n",
       "2   3      0                                     bihday majesty\n",
       "3   4      0  #model love u take u time urÃ°ÂÂÂ±!!! Ã°ÂÂ...\n",
       "4   5      0                    factsguide: society #motivation"
      ]
     },
     "execution_count": 9,
     "metadata": {},
     "output_type": "execute_result"
    }
   ],
   "source": [
    "# Removing Stopwords\n",
    "from nltk.corpus import stopwords # Stop words contain words like a,an,the,is,are,...etc\n",
    "stop=stopwords.words(\"english\")\n",
    "stop.extend([\"i'm\",\"I'm\"]) # adding additional stopwords\n",
    "# Implementing stopwords on train data\n",
    "tweets.tweet=tweets.tweet.apply(lambda x: ' '.join([word for word in x.split() if word not in (stop)]))\n",
    "tweets.head()"
   ]
  },
  {
   "cell_type": "code",
   "execution_count": 10,
   "metadata": {
    "colab": {},
    "colab_type": "code",
    "id": "8u5HjXkxcDPY"
   },
   "outputs": [],
   "source": [
    "def clean(x):\n",
    "    x=' '.join(re.sub(\"(@[A-Za-z0-9]+)|([^A-Za-z0-9']+)|(\\w+:\\/\\/\\S+)\",\" \",x).split())\n",
    "    return x"
   ]
  },
  {
   "cell_type": "code",
   "execution_count": 11,
   "metadata": {
    "colab": {
     "base_uri": "https://localhost:8080/",
     "height": 195
    },
    "colab_type": "code",
    "id": "QEXWPaszcDPa",
    "outputId": "2494114f-ef03-4eeb-ffa2-e2293f5a2201"
   },
   "outputs": [
    {
     "data": {
      "text/html": [
       "<div>\n",
       "<style scoped>\n",
       "    .dataframe tbody tr th:only-of-type {\n",
       "        vertical-align: middle;\n",
       "    }\n",
       "\n",
       "    .dataframe tbody tr th {\n",
       "        vertical-align: top;\n",
       "    }\n",
       "\n",
       "    .dataframe thead th {\n",
       "        text-align: right;\n",
       "    }\n",
       "</style>\n",
       "<table border=\"1\" class=\"dataframe\">\n",
       "  <thead>\n",
       "    <tr style=\"text-align: right;\">\n",
       "      <th></th>\n",
       "      <th>id</th>\n",
       "      <th>label</th>\n",
       "      <th>tweet</th>\n",
       "    </tr>\n",
       "  </thead>\n",
       "  <tbody>\n",
       "    <tr>\n",
       "      <th>0</th>\n",
       "      <td>1</td>\n",
       "      <td>0</td>\n",
       "      <td>father dysfunctional selfish drags kids dysfun...</td>\n",
       "    </tr>\n",
       "    <tr>\n",
       "      <th>1</th>\n",
       "      <td>2</td>\n",
       "      <td>0</td>\n",
       "      <td>user thanks lyft credit can't use cause offer ...</td>\n",
       "    </tr>\n",
       "    <tr>\n",
       "      <th>2</th>\n",
       "      <td>3</td>\n",
       "      <td>0</td>\n",
       "      <td>bihday majesty</td>\n",
       "    </tr>\n",
       "    <tr>\n",
       "      <th>3</th>\n",
       "      <td>4</td>\n",
       "      <td>0</td>\n",
       "      <td>model love u take u time ur</td>\n",
       "    </tr>\n",
       "    <tr>\n",
       "      <th>4</th>\n",
       "      <td>5</td>\n",
       "      <td>0</td>\n",
       "      <td>factsguide society motivation</td>\n",
       "    </tr>\n",
       "  </tbody>\n",
       "</table>\n",
       "</div>"
      ],
      "text/plain": [
       "   id  label                                              tweet\n",
       "0   1      0  father dysfunctional selfish drags kids dysfun...\n",
       "1   2      0  user thanks lyft credit can't use cause offer ...\n",
       "2   3      0                                     bihday majesty\n",
       "3   4      0                        model love u take u time ur\n",
       "4   5      0                      factsguide society motivation"
      ]
     },
     "execution_count": 11,
     "metadata": {},
     "output_type": "execute_result"
    }
   ],
   "source": [
    "# Removing Hyperlinks, userIDS\n",
    "tweets.tweet = tweets.tweet.apply(clean)\n",
    "tweets.head()"
   ]
  },
  {
   "cell_type": "code",
   "execution_count": 12,
   "metadata": {
    "colab": {
     "base_uri": "https://localhost:8080/",
     "height": 67
    },
    "colab_type": "code",
    "id": "X6AuZE0Fd5bT",
    "outputId": "af3dde34-a710-4915-f771-b97b91f234ca"
   },
   "outputs": [
    {
     "name": "stderr",
     "output_type": "stream",
     "text": [
      "[nltk_data] Downloading package wordnet to\n",
      "[nltk_data]     C:\\Users\\ShoaibShaik\\AppData\\Roaming\\nltk_data...\n",
      "[nltk_data]   Package wordnet is already up-to-date!\n"
     ]
    },
    {
     "data": {
      "text/plain": [
       "True"
      ]
     },
     "execution_count": 12,
     "metadata": {},
     "output_type": "execute_result"
    }
   ],
   "source": [
    "import nltk\n",
    "nltk.download('wordnet')"
   ]
  },
  {
   "cell_type": "code",
   "execution_count": 13,
   "metadata": {
    "colab": {
     "base_uri": "https://localhost:8080/",
     "height": 195
    },
    "colab_type": "code",
    "id": "fRGsU_IkcDPf",
    "outputId": "b4b6cdaa-6767-48dd-d503-d25f9c574b11"
   },
   "outputs": [
    {
     "data": {
      "text/html": [
       "<div>\n",
       "<style scoped>\n",
       "    .dataframe tbody tr th:only-of-type {\n",
       "        vertical-align: middle;\n",
       "    }\n",
       "\n",
       "    .dataframe tbody tr th {\n",
       "        vertical-align: top;\n",
       "    }\n",
       "\n",
       "    .dataframe thead th {\n",
       "        text-align: right;\n",
       "    }\n",
       "</style>\n",
       "<table border=\"1\" class=\"dataframe\">\n",
       "  <thead>\n",
       "    <tr style=\"text-align: right;\">\n",
       "      <th></th>\n",
       "      <th>id</th>\n",
       "      <th>label</th>\n",
       "      <th>tweet</th>\n",
       "    </tr>\n",
       "  </thead>\n",
       "  <tbody>\n",
       "    <tr>\n",
       "      <th>0</th>\n",
       "      <td>1</td>\n",
       "      <td>0</td>\n",
       "      <td>father dysfunctional selfish drag kid dysfunct...</td>\n",
       "    </tr>\n",
       "    <tr>\n",
       "      <th>1</th>\n",
       "      <td>2</td>\n",
       "      <td>0</td>\n",
       "      <td>user thank lyft credit can't use cause offer w...</td>\n",
       "    </tr>\n",
       "    <tr>\n",
       "      <th>2</th>\n",
       "      <td>3</td>\n",
       "      <td>0</td>\n",
       "      <td>bihday majesty</td>\n",
       "    </tr>\n",
       "    <tr>\n",
       "      <th>3</th>\n",
       "      <td>4</td>\n",
       "      <td>0</td>\n",
       "      <td>model love u take u time ur</td>\n",
       "    </tr>\n",
       "    <tr>\n",
       "      <th>4</th>\n",
       "      <td>5</td>\n",
       "      <td>0</td>\n",
       "      <td>factsguide society motivation</td>\n",
       "    </tr>\n",
       "  </tbody>\n",
       "</table>\n",
       "</div>"
      ],
      "text/plain": [
       "   id  label                                              tweet\n",
       "0   1      0  father dysfunctional selfish drag kid dysfunct...\n",
       "1   2      0  user thank lyft credit can't use cause offer w...\n",
       "2   3      0                                     bihday majesty\n",
       "3   4      0                        model love u take u time ur\n",
       "4   5      0                      factsguide society motivation"
      ]
     },
     "execution_count": 13,
     "metadata": {},
     "output_type": "execute_result"
    }
   ],
   "source": [
    "# Applying Lemmatization\n",
    "from nltk.stem.wordnet import WordNetLemmatizer\n",
    "wnl = WordNetLemmatizer()\n",
    "tweets.tweet=tweets.tweet.apply(lambda x:' '.join([wnl.lemmatize(word,'v') for word in x.split()])) # v stands for verb\n",
    "tweets.head()"
   ]
  },
  {
   "cell_type": "code",
   "execution_count": 14,
   "metadata": {
    "colab": {},
    "colab_type": "code",
    "id": "OQaT5mR3cDPh"
   },
   "outputs": [],
   "source": [
    "# Convert all the text data into lower case for flexibility\n",
    "tweets.tweet=tweets.tweet.apply(lambda x:' '.join([word.lower() for word in x.split()]))"
   ]
  },
  {
   "cell_type": "markdown",
   "metadata": {
    "colab_type": "text",
    "id": "g6dhc_owcDPj"
   },
   "source": [
    "#### Applying same techniques for test data for cleaning"
   ]
  },
  {
   "cell_type": "code",
   "execution_count": 15,
   "metadata": {
    "colab": {},
    "colab_type": "code",
    "id": "pSiJEEXXcDPk"
   },
   "outputs": [],
   "source": [
    "# Reading test data\n",
    "X_test = pd.read_csv('test.csv',encoding='latin- 1')\n",
    "# Removing Stopwords\n",
    "X_test.tweet=X_test.tweet.apply(lambda x: ' '.join([word for word in x.split() if word not in (stop)]))\n",
    "# Removing Hyperlinks, userIDS\n",
    "X_test.tweet = X_test.tweet.apply(clean)\n",
    "# Applying Lemmatization\n",
    "wnl1 = WordNetLemmatizer()\n",
    "X_test.tweet=X_test.tweet.apply(lambda x:' '.join([wnl1.lemmatize(word,'v') for word in x.split()])) # v stands for verb\n",
    "X_test.tweet=X_test.tweet.apply(lambda x:' '.join([word.lower() for word in x.split()]))"
   ]
  },
  {
   "cell_type": "markdown",
   "metadata": {
    "colab_type": "text",
    "id": "noVkqPaGcDPl"
   },
   "source": [
    "#### Reading result data"
   ]
  },
  {
   "cell_type": "code",
   "execution_count": 16,
   "metadata": {
    "colab": {},
    "colab_type": "code",
    "id": "R5PKMo9DcDPm"
   },
   "outputs": [],
   "source": [
    "y_test = pd.read_csv('result.csv')"
   ]
  },
  {
   "cell_type": "markdown",
   "metadata": {
    "colab_type": "text",
    "id": "Fjb19zQFcDPn"
   },
   "source": [
    "#### Applying TFIDF Vectorizer for train and test data"
   ]
  },
  {
   "cell_type": "code",
   "execution_count": 17,
   "metadata": {
    "colab": {},
    "colab_type": "code",
    "id": "KtmQYzOCcDPo"
   },
   "outputs": [],
   "source": [
    "## Importing TFIDF Vectorizer\n",
    "from sklearn.feature_extraction.text import TfidfVectorizer\n",
    "tfidf = TfidfVectorizer()"
   ]
  },
  {
   "cell_type": "code",
   "execution_count": 18,
   "metadata": {
    "colab": {
     "base_uri": "https://localhost:8080/",
     "height": 50
    },
    "colab_type": "code",
    "id": "Oy5IoHMEcDPp",
    "outputId": "07b0a7c5-98f3-4b9c-ae78-deaf54c3c5d2"
   },
   "outputs": [
    {
     "data": {
      "text/plain": [
       "<17197x35865 sparse matrix of type '<class 'numpy.float64'>'\n",
       "\twith 123657 stored elements in Compressed Sparse Row format>"
      ]
     },
     "execution_count": 18,
     "metadata": {},
     "output_type": "execute_result"
    }
   ],
   "source": [
    "#Applying tfidf to train data\n",
    "new_inp = tfidf.fit_transform(tweets.tweet)\n",
    "new_inp\n",
    "#Applying tfidf to test data\n",
    "test_inp = tfidf.transform(X_test.tweet)\n",
    "test_inp"
   ]
  },
  {
   "cell_type": "markdown",
   "metadata": {
    "colab_type": "text",
    "id": "ymaTaao-cDPr"
   },
   "source": [
    "#### SMOTE"
   ]
  },
  {
   "cell_type": "code",
   "execution_count": 19,
   "metadata": {
    "colab": {
     "base_uri": "https://localhost:8080/",
     "height": 138
    },
    "colab_type": "code",
    "id": "bXHe74a6cDPs",
    "outputId": "4899e046-c1a6-4b4b-b166-0f2f20b23d3e"
   },
   "outputs": [],
   "source": [
    "#Importing SMOTETomek \n",
    "from imblearn.combine import SMOTETomek\n",
    "smk = SMOTETomek(random_state=42) # Creating an Object\n",
    "X_train,y_train=smk.fit_sample(new_inp,tweets.label)"
   ]
  },
  {
   "cell_type": "code",
   "execution_count": 20,
   "metadata": {
    "colab": {
     "base_uri": "https://localhost:8080/",
     "height": 50
    },
    "colab_type": "code",
    "id": "K_eQOxBXcDPu",
    "outputId": "4b1fbb54-41c1-4ac6-aa93-5d819505ea59"
   },
   "outputs": [
    {
     "name": "stdout",
     "output_type": "stream",
     "text": [
      "(59440, 35865)\n",
      "(59440,)\n"
     ]
    }
   ],
   "source": [
    "print(X_train.shape)\n",
    "print(y_train.shape)"
   ]
  },
  {
   "cell_type": "code",
   "execution_count": 21,
   "metadata": {
    "colab": {
     "base_uri": "https://localhost:8080/",
     "height": 67
    },
    "colab_type": "code",
    "id": "TMcpy0GwZA4s",
    "outputId": "3b31182e-07f8-4583-e84a-fe1a7629ab58"
   },
   "outputs": [
    {
     "data": {
      "text/plain": [
       "1    29720\n",
       "0    29720\n",
       "Name: label, dtype: int64"
      ]
     },
     "execution_count": 21,
     "metadata": {},
     "output_type": "execute_result"
    }
   ],
   "source": [
    "# converting y_train from np.array to data frame to check for the balancing outcome\n",
    "c=pd.DataFrame(y_train)\n",
    "#  using index to generate counts of the label         \n",
    "c.iloc[:,0].value_counts()       \n",
    "# we can see that both the labels are now balanced"
   ]
  },
  {
   "cell_type": "code",
   "execution_count": 22,
   "metadata": {
    "colab": {
     "base_uri": "https://localhost:8080/",
     "height": 67
    },
    "colab_type": "code",
    "id": "JUwyoCb3cDPw",
    "outputId": "e2909006-756c-4970-f5d1-850571caff12"
   },
   "outputs": [
    {
     "data": {
      "text/plain": [
       "0    29720\n",
       "1     2242\n",
       "Name: label, dtype: int64"
      ]
     },
     "execution_count": 22,
     "metadata": {},
     "output_type": "execute_result"
    }
   ],
   "source": [
    "tweets.label.value_counts()"
   ]
  },
  {
   "cell_type": "markdown",
   "metadata": {
    "colab_type": "text",
    "id": "eLzuJoahcDP2"
   },
   "source": [
    "### Logistic regression"
   ]
  },
  {
   "cell_type": "code",
   "execution_count": 23,
   "metadata": {
    "colab": {
     "base_uri": "https://localhost:8080/",
     "height": 101
    },
    "colab_type": "code",
    "id": "mZJtx9fgcDP2",
    "outputId": "f3e41de2-41b1-41e2-a845-62c61d02c482"
   },
   "outputs": [
    {
     "data": {
      "text/plain": [
       "LogisticRegression()"
      ]
     },
     "execution_count": 23,
     "metadata": {},
     "output_type": "execute_result"
    }
   ],
   "source": [
    "# importing logistic regression\n",
    "from sklearn.linear_model import LogisticRegression\n",
    "reg=LogisticRegression()  # creating object\n",
    "reg.fit(X_train,y_train)  # fitting train data using the object"
   ]
  },
  {
   "cell_type": "code",
   "execution_count": 24,
   "metadata": {
    "colab": {},
    "colab_type": "code",
    "id": "KiO7WJpOcDP4"
   },
   "outputs": [],
   "source": [
    "#predicting on train data\n",
    "lg_train_pred=reg.predict(X_train)\n",
    "#predicting on test data\n",
    "lg_test_pred=reg.predict(test_inp)"
   ]
  },
  {
   "cell_type": "code",
   "execution_count": 25,
   "metadata": {
    "colab": {
     "base_uri": "https://localhost:8080/",
     "height": 353
    },
    "colab_type": "code",
    "id": "yO7s5vbmcDP6",
    "outputId": "9e0efdb9-690b-4920-ea6c-33b760d54ec7"
   },
   "outputs": [
    {
     "name": "stdout",
     "output_type": "stream",
     "text": [
      "---------------------------ON TRAIN DATA------------------------------------\n",
      "              precision    recall  f1-score   support\n",
      "\n",
      "           0     0.9672    0.9681    0.9676     29720\n",
      "           1     0.9680    0.9672    0.9676     29720\n",
      "\n",
      "    accuracy                         0.9676     59440\n",
      "   macro avg     0.9676    0.9676    0.9676     59440\n",
      "weighted avg     0.9676    0.9676    0.9676     59440\n",
      "\n",
      "--------------------------ON TEST DATA-------------------------------------\n",
      "              precision    recall  f1-score   support\n",
      "\n",
      "           0     0.9960    0.9396    0.9670     16282\n",
      "           1     0.4646    0.9333    0.6204       915\n",
      "\n",
      "    accuracy                         0.9392     17197\n",
      "   macro avg     0.7303    0.9364    0.7937     17197\n",
      "weighted avg     0.9678    0.9392    0.9485     17197\n",
      "\n"
     ]
    }
   ],
   "source": [
    "# Classification report on train and test\n",
    "from sklearn.metrics import classification_report\n",
    "print('---------------------------ON TRAIN DATA------------------------------------')\n",
    "print(classification_report(y_train,lg_train_pred,digits=4))\n",
    "print('--------------------------ON TEST DATA-------------------------------------')\n",
    "print(classification_report(y_test.label,lg_test_pred,digits=4))"
   ]
  },
  {
   "cell_type": "code",
   "execution_count": null,
   "metadata": {
    "colab": {},
    "colab_type": "code",
    "id": "nZv_gFm0cDP8"
   },
   "outputs": [],
   "source": []
  },
  {
   "cell_type": "markdown",
   "metadata": {
    "colab_type": "text",
    "id": "tY6sVF9kcDP9"
   },
   "source": [
    "### Multinomial NB"
   ]
  },
  {
   "cell_type": "code",
   "execution_count": 26,
   "metadata": {
    "colab": {
     "base_uri": "https://localhost:8080/",
     "height": 34
    },
    "colab_type": "code",
    "id": "2AN9Umr6cDP-",
    "outputId": "98402a6e-37bb-4f08-b678-daa7c6dffa11"
   },
   "outputs": [
    {
     "data": {
      "text/plain": [
       "MultinomialNB()"
      ]
     },
     "execution_count": 26,
     "metadata": {},
     "output_type": "execute_result"
    }
   ],
   "source": [
    "# import BernNB\n",
    "from sklearn.naive_bayes import MultinomialNB\n",
    "mnb = MultinomialNB()\n",
    "mnb.fit(X_train,y_train)"
   ]
  },
  {
   "cell_type": "code",
   "execution_count": 27,
   "metadata": {
    "colab": {},
    "colab_type": "code",
    "id": "Fg_Ws4XkcDP_"
   },
   "outputs": [],
   "source": [
    "#predicting on train data\n",
    "mnb_train_pred=mnb.predict(X_train)\n",
    "#predicting on test data\n",
    "mnb_test_pred=mnb.predict(test_inp)"
   ]
  },
  {
   "cell_type": "code",
   "execution_count": 28,
   "metadata": {
    "colab": {
     "base_uri": "https://localhost:8080/",
     "height": 336
    },
    "colab_type": "code",
    "id": "m1kKbpsScDQB",
    "outputId": "3b7bfb74-b397-4dfb-f2ba-461c9f692b37"
   },
   "outputs": [
    {
     "name": "stdout",
     "output_type": "stream",
     "text": [
      "              precision    recall  f1-score   support\n",
      "\n",
      "           0       0.99      0.95      0.97     29720\n",
      "           1       0.95      0.99      0.97     29720\n",
      "\n",
      "    accuracy                           0.97     59440\n",
      "   macro avg       0.97      0.97      0.97     59440\n",
      "weighted avg       0.97      0.97      0.97     59440\n",
      "\n",
      "----------------------------------------------------------------\n",
      "              precision    recall  f1-score   support\n",
      "\n",
      "           0       0.99      0.91      0.95     16282\n",
      "           1       0.36      0.90      0.52       915\n",
      "\n",
      "    accuracy                           0.91     17197\n",
      "   macro avg       0.68      0.91      0.74     17197\n",
      "weighted avg       0.96      0.91      0.93     17197\n",
      "\n"
     ]
    }
   ],
   "source": [
    "# Classification report on train and test\n",
    "from sklearn.metrics import classification_report\n",
    "print(classification_report(y_train,mnb_train_pred))\n",
    "print('----------------------------------------------------------------')\n",
    "print(classification_report(y_test.label,mnb_test_pred))"
   ]
  },
  {
   "cell_type": "code",
   "execution_count": 29,
   "metadata": {
    "colab": {
     "base_uri": "https://localhost:8080/",
     "height": 34
    },
    "colab_type": "code",
    "id": "3Imfik16cDQD",
    "outputId": "1790ae58-3cc2-46aa-8252-df65b96318e8"
   },
   "outputs": [
    {
     "data": {
      "text/plain": [
       "0.9027322404371585"
      ]
     },
     "execution_count": 29,
     "metadata": {},
     "output_type": "execute_result"
    }
   ],
   "source": [
    "# recall on test data\n",
    "from sklearn.metrics import recall_score\n",
    "recall_score(y_test.label,mnb_test_pred)"
   ]
  },
  {
   "cell_type": "markdown",
   "metadata": {
    "colab_type": "text",
    "id": "eVh3cZIvcDQE"
   },
   "source": [
    "## Decision tree Classifier"
   ]
  },
  {
   "cell_type": "code",
   "execution_count": 30,
   "metadata": {
    "colab": {
     "base_uri": "https://localhost:8080/",
     "height": 118
    },
    "colab_type": "code",
    "id": "skNEeAd1cDQE",
    "outputId": "682d9997-1509-4c35-b76c-ea55755490d7"
   },
   "outputs": [
    {
     "data": {
      "text/plain": [
       "DecisionTreeClassifier(criterion='entropy')"
      ]
     },
     "execution_count": 30,
     "metadata": {},
     "output_type": "execute_result"
    }
   ],
   "source": [
    "# importing decision tree classifier from sklearn.tree package\n",
    "from sklearn.tree import DecisionTreeClassifier\n",
    "# creating object\n",
    "dtree=DecisionTreeClassifier(criterion='entropy') \n",
    "# Fitting on train data\n",
    "dtree.fit(X_train,y_train)"
   ]
  },
  {
   "cell_type": "code",
   "execution_count": 31,
   "metadata": {
    "colab": {},
    "colab_type": "code",
    "id": "AuYRsAhYcDQG"
   },
   "outputs": [],
   "source": [
    "#predicting on train data\n",
    "dtree_train_pred=dtree.predict(X_train)\n",
    "#predicting on test data\n",
    "dtree_test_pred=dtree.predict(test_inp)"
   ]
  },
  {
   "cell_type": "code",
   "execution_count": 32,
   "metadata": {
    "colab": {
     "base_uri": "https://localhost:8080/",
     "height": 353
    },
    "colab_type": "code",
    "id": "6X24UDwucDQH",
    "outputId": "9653076c-23d2-4b21-c5f9-f4858b59336e"
   },
   "outputs": [
    {
     "name": "stdout",
     "output_type": "stream",
     "text": [
      "----------------------------ON TRAIN DATA------------------------------------\n",
      "              precision    recall  f1-score   support\n",
      "\n",
      "           0     0.9998    1.0000    0.9999     29720\n",
      "           1     1.0000    0.9998    0.9999     29720\n",
      "\n",
      "    accuracy                         0.9999     59440\n",
      "   macro avg     0.9999    0.9999    0.9999     59440\n",
      "weighted avg     0.9999    0.9999    0.9999     59440\n",
      "\n",
      "----------------------------ON TEST DATA------------------------------------\n",
      "              precision    recall  f1-score   support\n",
      "\n",
      "           0     0.9782    0.9686    0.9733     16282\n",
      "           1     0.5237    0.6153    0.5658       915\n",
      "\n",
      "    accuracy                         0.9498     17197\n",
      "   macro avg     0.7509    0.7919    0.7696     17197\n",
      "weighted avg     0.9540    0.9498    0.9517     17197\n",
      "\n"
     ]
    }
   ],
   "source": [
    "# Classification report on train and test\n",
    "# importing classification report from sklearn.metrics module\n",
    "from sklearn.metrics import classification_report\n",
    "print('----------------------------ON TRAIN DATA------------------------------------')\n",
    "print(classification_report(y_train,dtree_train_pred,digits=4))\n",
    "print('----------------------------ON TEST DATA------------------------------------')\n",
    "print(classification_report(y_test.label,dtree_test_pred,digits=4))"
   ]
  },
  {
   "cell_type": "markdown",
   "metadata": {
    "colab_type": "text",
    "id": "QAycsL6FXN4C"
   },
   "source": [
    "### Logistic Regression Hyperparameter\n"
   ]
  },
  {
   "cell_type": "code",
   "execution_count": 33,
   "metadata": {
    "colab": {},
    "colab_type": "code",
    "id": "4PL6YYxtcDQR"
   },
   "outputs": [],
   "source": [
    "# Taking Parameters for performing HyperParameter Tuning\n",
    "dual=[True,False] \n",
    "max_iter= [800]\n",
    "C = [1.0,1.5,2.0,2.5]\n",
    "param_grid = dict(dual=dual,max_iter=max_iter,C=C)"
   ]
  },
  {
   "cell_type": "code",
   "execution_count": 34,
   "metadata": {
    "colab": {
     "base_uri": "https://localhost:8080/",
     "height": 252
    },
    "colab_type": "code",
    "id": "aTrd8FnPfVhN",
    "outputId": "8b57f78d-38b2-43d2-b614-b4fea54a0cc8"
   },
   "outputs": [
    {
     "data": {
      "text/plain": [
       "GridSearchCV(cv=3, estimator=LogisticRegression(), n_jobs=-1,\n",
       "             param_grid={'C': [1.0, 1.5, 2.0, 2.5], 'dual': [True, False],\n",
       "                         'max_iter': [800]})"
      ]
     },
     "execution_count": 34,
     "metadata": {},
     "output_type": "execute_result"
    }
   ],
   "source": [
    "# Creating New Object for Hyper Parameter Tuning\n",
    "new_lr = LogisticRegression(penalty='l2')\n",
    "# Importing GridSearchCV for finding Best parameters\n",
    "from sklearn.model_selection import GridSearchCV\n",
    "# Initializing Object for GridSearchCV \n",
    "grid_search = GridSearchCV(estimator=new_lr, param_grid=param_grid, cv = 3, n_jobs=-1)\n",
    "# Fitting grid_search on Train data\n",
    "grid_search.fit(X_train, y_train)"
   ]
  },
  {
   "cell_type": "code",
   "execution_count": 35,
   "metadata": {
    "colab": {
     "base_uri": "https://localhost:8080/",
     "height": 34
    },
    "colab_type": "code",
    "id": "jy8j1-tAtUIJ",
    "outputId": "c58654a7-8d4c-4519-b796-6ad0fc3d32a0"
   },
   "outputs": [
    {
     "data": {
      "text/plain": [
       "{'C': 2.5, 'dual': False, 'max_iter': 800}"
      ]
     },
     "execution_count": 35,
     "metadata": {},
     "output_type": "execute_result"
    }
   ],
   "source": [
    "# generating best parameters\n",
    "grid_search.best_params_"
   ]
  },
  {
   "cell_type": "code",
   "execution_count": 36,
   "metadata": {
    "colab": {
     "base_uri": "https://localhost:8080/",
     "height": 101
    },
    "colab_type": "code",
    "id": "_pexjCpItZzX",
    "outputId": "cc4bc104-ab6d-4eec-ba59-3b97b50e9878"
   },
   "outputs": [
    {
     "data": {
      "text/plain": [
       "LogisticRegression(C=2.5, max_iter=800)"
      ]
     },
     "execution_count": 36,
     "metadata": {},
     "output_type": "execute_result"
    }
   ],
   "source": [
    "# Creating new object and fitting best parameters\n",
    "final_lg = LogisticRegression(max_iter = 800, dual=False,C=2.5)\n",
    "# fitting on train data\n",
    "final_lg.fit(X_train,y_train)"
   ]
  },
  {
   "cell_type": "code",
   "execution_count": 37,
   "metadata": {
    "colab": {},
    "colab_type": "code",
    "id": "dKcd7j09xCZ5"
   },
   "outputs": [],
   "source": [
    "#predicting on train data\n",
    "final_lg_train_pred=final_lg.predict(X_train)\n",
    "#predicting on test data\n",
    "final_lg_test_pred=final_lg.predict(test_inp)"
   ]
  },
  {
   "cell_type": "code",
   "execution_count": 38,
   "metadata": {
    "colab": {
     "base_uri": "https://localhost:8080/",
     "height": 353
    },
    "colab_type": "code",
    "id": "Au7wL1cUxb1h",
    "outputId": "55e9dc59-851b-4e72-e648-69ff2dd3c986"
   },
   "outputs": [
    {
     "name": "stdout",
     "output_type": "stream",
     "text": [
      "---------------------------ON TRAIN DATA------------------------------------\n",
      "              precision    recall  f1-score   support\n",
      "\n",
      "           0     0.9889    0.9797    0.9843     29720\n",
      "           1     0.9799    0.9890    0.9844     29720\n",
      "\n",
      "    accuracy                         0.9844     59440\n",
      "   macro avg     0.9844    0.9844    0.9844     59440\n",
      "weighted avg     0.9844    0.9844    0.9844     59440\n",
      "\n",
      "-----------------------------ON TEST DATA-----------------------------------\n",
      "              precision    recall  f1-score   support\n",
      "\n",
      "           0     0.9941    0.9437    0.9683     16282\n",
      "           1     0.4736    0.9005    0.6207       915\n",
      "\n",
      "    accuracy                         0.9414     17197\n",
      "   macro avg     0.7338    0.9221    0.7945     17197\n",
      "weighted avg     0.9664    0.9414    0.9498     17197\n",
      "\n"
     ]
    }
   ],
   "source": [
    "# After Hyper parameter Tuning\n",
    "# Classification report on train and test\n",
    "from sklearn.metrics import classification_report\n",
    "print('---------------------------ON TRAIN DATA------------------------------------')\n",
    "print(classification_report(y_train,final_lg_train_pred,digits=4))\n",
    "print('-----------------------------ON TEST DATA-----------------------------------')\n",
    "print(classification_report(y_test.label,final_lg_test_pred,digits=4))"
   ]
  },
  {
   "cell_type": "markdown",
   "metadata": {
    "colab_type": "text",
    "id": "VrXu6AMhXYT-"
   },
   "source": [
    "### MultinomialNB Hyperparameter"
   ]
  },
  {
   "cell_type": "code",
   "execution_count": 39,
   "metadata": {
    "colab": {},
    "colab_type": "code",
    "id": "Sa60nCRpoBUM"
   },
   "outputs": [],
   "source": [
    "from sklearn.pipeline import Pipeline\n",
    "tuned_parameters = {\n",
    "    'clf__alpha': [1, 1e-1, 1e-2]\n",
    "}\n",
    "text_clf = Pipeline([('clf', MultinomialNB())])"
   ]
  },
  {
   "cell_type": "markdown",
   "metadata": {
    "colab_type": "text",
    "id": "vSBlYzCCXXhP"
   },
   "source": []
  },
  {
   "cell_type": "code",
   "execution_count": 40,
   "metadata": {
    "colab": {
     "base_uri": "https://localhost:8080/",
     "height": 185
    },
    "colab_type": "code",
    "id": "nacEl3Cro7LM",
    "outputId": "c452df5f-a621-44b0-da55-bd9b0ed8f6d9"
   },
   "outputs": [
    {
     "data": {
      "text/plain": [
       "GridSearchCV(cv=10, estimator=Pipeline(steps=[('clf', MultinomialNB())]),\n",
       "             param_grid={'clf__alpha': [1, 0.1, 0.01]})"
      ]
     },
     "execution_count": 40,
     "metadata": {},
     "output_type": "execute_result"
    }
   ],
   "source": [
    "clf = MultinomialNB()\n",
    "mnb_res = GridSearchCV(text_clf,param_grid=tuned_parameters,cv=10)\n",
    "mnb_res.fit(X_train,y_train)"
   ]
  },
  {
   "cell_type": "code",
   "execution_count": 41,
   "metadata": {
    "colab": {
     "base_uri": "https://localhost:8080/",
     "height": 34
    },
    "colab_type": "code",
    "id": "hQ1bNypEYHbS",
    "outputId": "741b192e-60d4-4710-9fc0-919770fdce49"
   },
   "outputs": [
    {
     "data": {
      "text/plain": [
       "{'clf__alpha': 0.01}"
      ]
     },
     "execution_count": 41,
     "metadata": {},
     "output_type": "execute_result"
    }
   ],
   "source": [
    "mnb_res.best_params_"
   ]
  },
  {
   "cell_type": "code",
   "execution_count": 42,
   "metadata": {
    "colab": {
     "base_uri": "https://localhost:8080/",
     "height": 34
    },
    "colab_type": "code",
    "id": "tbCRdvWSYLPZ",
    "outputId": "f46e1082-1217-4642-8a00-5f41eb4c668d"
   },
   "outputs": [
    {
     "data": {
      "text/plain": [
       "MultinomialNB(alpha=0.01)"
      ]
     },
     "execution_count": 42,
     "metadata": {},
     "output_type": "execute_result"
    }
   ],
   "source": [
    "final_mnb = MultinomialNB(alpha=0.01)\n",
    "final_mnb.fit(X_train,y_train)"
   ]
  },
  {
   "cell_type": "code",
   "execution_count": 43,
   "metadata": {
    "colab": {},
    "colab_type": "code",
    "id": "vnm8-GUoYOsS"
   },
   "outputs": [],
   "source": [
    "#predicting on train data\n",
    "final_mnb_train_pred=final_mnb.predict(X_train)\n",
    "#predicting on test data\n",
    "final_mnb_test_pred=final_mnb.predict(test_inp)"
   ]
  },
  {
   "cell_type": "code",
   "execution_count": 44,
   "metadata": {
    "colab": {
     "base_uri": "https://localhost:8080/",
     "height": 336
    },
    "colab_type": "code",
    "id": "wsY2HD93YRty",
    "outputId": "1360c43e-184a-464f-9eb6-8a093052fa6f"
   },
   "outputs": [
    {
     "name": "stdout",
     "output_type": "stream",
     "text": [
      "              precision    recall  f1-score   support\n",
      "\n",
      "           0       0.99      0.98      0.98     29720\n",
      "           1       0.98      0.99      0.98     29720\n",
      "\n",
      "    accuracy                           0.98     59440\n",
      "   macro avg       0.99      0.98      0.98     59440\n",
      "weighted avg       0.99      0.98      0.98     59440\n",
      "\n",
      "----------------------------------------------------------------\n",
      "              precision    recall  f1-score   support\n",
      "\n",
      "           0       0.98      0.94      0.96     16282\n",
      "           1       0.40      0.74      0.52       915\n",
      "\n",
      "    accuracy                           0.93     17197\n",
      "   macro avg       0.69      0.84      0.74     17197\n",
      "weighted avg       0.95      0.93      0.94     17197\n",
      "\n"
     ]
    }
   ],
   "source": [
    "# Classification report on train and test\n",
    "from sklearn.metrics import classification_report\n",
    "print(classification_report(y_train,final_mnb_train_pred))\n",
    "print('----------------------------------------------------------------')\n",
    "print(classification_report(y_test.label,final_mnb_test_pred))"
   ]
  },
  {
   "cell_type": "markdown",
   "metadata": {
    "colab_type": "text",
    "id": "SEVMMjXzbZuN"
   },
   "source": [
    "### Decision Tree Classifier"
   ]
  },
  {
   "cell_type": "code",
   "execution_count": null,
   "metadata": {
    "colab": {},
    "colab_type": "code",
    "id": "NkS2JnqFa53y"
   },
   "outputs": [],
   "source": [
    "# taking best possible parameters\n",
    "grid_param = {\n",
    "    'criterion': ['gini', 'entropy'],\n",
    "    'max_depth' : range(2,32,1),\n",
    "    'min_samples_leaf' : range(1,10,1)}"
   ]
  },
  {
   "cell_type": "code",
   "execution_count": null,
   "metadata": {
    "colab": {
     "base_uri": "https://localhost:8080/",
     "height": 487
    },
    "colab_type": "code",
    "id": "xx2SO_5AbQ1H",
    "outputId": "5e144b52-da13-40b7-d60f-8b6932f2a81c"
   },
   "outputs": [
    {
     "name": "stdout",
     "output_type": "stream",
     "text": [
      "Fitting 3 folds for each of 540 candidates, totalling 1620 fits\n"
     ]
    },
    {
     "name": "stderr",
     "output_type": "stream",
     "text": [
      "[Parallel(n_jobs=-1)]: Using backend LokyBackend with 2 concurrent workers.\n",
      "[Parallel(n_jobs=-1)]: Done  37 tasks      | elapsed:   18.3s\n",
      "[Parallel(n_jobs=-1)]: Done 158 tasks      | elapsed:  1.5min\n",
      "[Parallel(n_jobs=-1)]: Done 361 tasks      | elapsed:  4.2min\n",
      "[Parallel(n_jobs=-1)]: Done 644 tasks      | elapsed:  9.9min\n",
      "[Parallel(n_jobs=-1)]: Done 1009 tasks      | elapsed: 16.2min\n",
      "[Parallel(n_jobs=-1)]: Done 1454 tasks      | elapsed: 25.3min\n",
      "[Parallel(n_jobs=-1)]: Done 1620 out of 1620 | elapsed: 30.0min finished\n"
     ]
    },
    {
     "data": {
      "text/plain": [
       "GridSearchCV(cv=3, error_score=nan,\n",
       "             estimator=DecisionTreeClassifier(ccp_alpha=0.0, class_weight=None,\n",
       "                                              criterion='gini', max_depth=None,\n",
       "                                              max_features=None,\n",
       "                                              max_leaf_nodes=None,\n",
       "                                              min_impurity_decrease=0.0,\n",
       "                                              min_impurity_split=None,\n",
       "                                              min_samples_leaf=1,\n",
       "                                              min_samples_split=2,\n",
       "                                              min_weight_fraction_leaf=0.0,\n",
       "                                              presort='deprecated',\n",
       "                                              random_state=None,\n",
       "                                              splitter='best'),\n",
       "             iid='deprecated', n_jobs=-1,\n",
       "             param_grid={'criterion': ['gini', 'entropy'],\n",
       "                         'max_depth': range(2, 32),\n",
       "                         'min_samples_leaf': range(1, 10)},\n",
       "             pre_dispatch='2*n_jobs', refit=True, return_train_score=False,\n",
       "             scoring=None, verbose=2)"
      ]
     },
     "execution_count": 53,
     "metadata": {
      "tags": []
     },
     "output_type": "execute_result"
    }
   ],
   "source": [
    "#Import the GridSearchCV \n",
    "from sklearn.model_selection import GridSearchCV\n",
    "# initialization of GridSearch with the parameters- ModelName and the dictionary of parameters\n",
    "clf_new = DecisionTreeClassifier()\n",
    "grid_search_new= GridSearchCV(estimator=clf_new, param_grid=grid_param,n_jobs=-1,cv=3,verbose=2)\n",
    "# applying gridsearch onto dataset\n",
    "grid_search_new.fit(X_train, y_train)"
   ]
  },
  {
   "cell_type": "code",
   "execution_count": null,
   "metadata": {
    "colab": {},
    "colab_type": "code",
    "id": "M3nxMfj0rSm5"
   },
   "outputs": [],
   "source": [
    "grid_search_new.best_params_"
   ]
  },
  {
   "cell_type": "code",
   "execution_count": 45,
   "metadata": {
    "colab": {
     "base_uri": "https://localhost:8080/",
     "height": 118
    },
    "colab_type": "code",
    "id": "VI3xVkpXrJks",
    "outputId": "75e854e4-ed1c-4070-a33e-2b9d292add22"
   },
   "outputs": [
    {
     "data": {
      "text/plain": [
       "DecisionTreeClassifier(max_depth=31)"
      ]
     },
     "execution_count": 45,
     "metadata": {},
     "output_type": "execute_result"
    }
   ],
   "source": [
    "# creating object and applying  best parameters\n",
    "final_dtree = DecisionTreeClassifier(criterion= 'gini', max_depth= 31, min_samples_leaf= 1)\n",
    "# fitting object on the model\n",
    "final_dtree.fit(X_train,y_train)"
   ]
  },
  {
   "cell_type": "code",
   "execution_count": 46,
   "metadata": {
    "colab": {},
    "colab_type": "code",
    "id": "yg9x0D332Z-V"
   },
   "outputs": [],
   "source": [
    "#predicting on train data\n",
    "final_dtree_train_pred=final_dtree.predict(X_train)\n",
    "#predicting on test data\n",
    "final_dtree_test_pred=final_dtree.predict(test_inp)"
   ]
  },
  {
   "cell_type": "code",
   "execution_count": 47,
   "metadata": {
    "colab": {
     "base_uri": "https://localhost:8080/",
     "height": 353
    },
    "colab_type": "code",
    "id": "Vr-9sIyj2r9S",
    "outputId": "31ddc40f-28f7-434c-a738-6bee944f612d"
   },
   "outputs": [
    {
     "name": "stdout",
     "output_type": "stream",
     "text": [
      "-----------------------ON TRAIN DATA-----------------------------------------\n",
      "              precision    recall  f1-score   support\n",
      "\n",
      "           0     0.8561    0.9920    0.9191     29720\n",
      "           1     0.9905    0.8332    0.9051     29720\n",
      "\n",
      "    accuracy                         0.9126     59440\n",
      "   macro avg     0.9233    0.9126    0.9121     59440\n",
      "weighted avg     0.9233    0.9126    0.9121     59440\n",
      "\n",
      "------------------------ON TEST DATA----------------------------------------\n",
      "              precision    recall  f1-score   support\n",
      "\n",
      "           0     0.9840    0.9717    0.9778     16282\n",
      "           1     0.5886    0.7191    0.6473       915\n",
      "\n",
      "    accuracy                         0.9583     17197\n",
      "   macro avg     0.7863    0.8454    0.8126     17197\n",
      "weighted avg     0.9630    0.9583    0.9603     17197\n",
      "\n"
     ]
    }
   ],
   "source": [
    "# Classification report on train and test\n",
    "from sklearn.metrics import classification_report\n",
    "print('-----------------------ON TRAIN DATA-----------------------------------------')\n",
    "print(classification_report(y_train,final_dtree_train_pred,digits=4))\n",
    "print('------------------------ON TEST DATA----------------------------------------')\n",
    "print(classification_report(y_test.label,final_dtree_test_pred,digits=4))"
   ]
  },
  {
   "cell_type": "code",
   "execution_count": 48,
   "metadata": {
    "colab": {
     "base_uri": "https://localhost:8080/",
     "height": 168
    },
    "colab_type": "code",
    "id": "1gmXdW3FYiTq",
    "outputId": "baf6c5e1-7772-4d09-9b6e-a1a206e2fa1f"
   },
   "outputs": [
    {
     "name": "stdout",
     "output_type": "stream",
     "text": [
      "Requirement already satisfied: GetOldTweets3 in c:\\users\\shoaibshaik\\anaconda3\\lib\\site-packages (0.0.11)\n",
      "Requirement already satisfied: pyquery>=1.2.10 in c:\\users\\shoaibshaik\\anaconda3\\lib\\site-packages (from GetOldTweets3) (1.4.1)\n",
      "Requirement already satisfied: lxml>=3.5.0 in c:\\users\\shoaibshaik\\anaconda3\\lib\\site-packages (from GetOldTweets3) (4.5.0)\n",
      "Requirement already satisfied: cssselect>0.7.9 in c:\\users\\shoaibshaik\\anaconda3\\lib\\site-packages (from pyquery>=1.2.10->GetOldTweets3) (1.1.0)\n"
     ]
    }
   ],
   "source": [
    "!pip install GetOldTweets3"
   ]
  },
  {
   "cell_type": "code",
   "execution_count": 49,
   "metadata": {
    "colab": {},
    "colab_type": "code",
    "id": "07UG7S3cYScx"
   },
   "outputs": [],
   "source": [
    "import GetOldTweets3 as got"
   ]
  },
  {
   "cell_type": "code",
   "execution_count": 50,
   "metadata": {
    "colab": {
     "base_uri": "https://localhost:8080/",
     "height": 34
    },
    "colab_type": "code",
    "id": "gGxmII7LrEe3",
    "outputId": "d377da5c-dd0e-4e90-dc57-0ccbfeed175d"
   },
   "outputs": [
    {
     "name": "stdout",
     "output_type": "stream",
     "text": [
      "blacklivesmatter\n"
     ]
    }
   ],
   "source": [
    "tag = input()\n",
    "limit = 300"
   ]
  },
  {
   "cell_type": "code",
   "execution_count": 60,
   "metadata": {
    "colab": {},
    "colab_type": "code",
    "id": "Wv2p4VmgYYbf"
   },
   "outputs": [],
   "source": [
    "# setting criteria using TweetCriteria model\n",
    "# setQuerySearch take the given tag as parameter\n",
    "# setMaxTweets takes limit i.e., number of tweets as a parameter\n",
    "tweetCriteria = got.manager.TweetCriteria().setQuerySearch(tag)\\\n",
    "                                           .setMaxTweets(limit)\n",
    "tweet = got.manager.TweetManager.getTweets(tweetCriteria)\n",
    "# getting tweets"
   ]
  },
  {
   "cell_type": "code",
   "execution_count": 61,
   "metadata": {
    "colab": {
     "base_uri": "https://localhost:8080/",
     "height": 195
    },
    "colab_type": "code",
    "id": "iNFVY4VWYxUH",
    "outputId": "b4a95140-f11a-4b9e-ec2f-35f689e3fc18"
   },
   "outputs": [
    {
     "data": {
      "text/html": [
       "<div>\n",
       "<style scoped>\n",
       "    .dataframe tbody tr th:only-of-type {\n",
       "        vertical-align: middle;\n",
       "    }\n",
       "\n",
       "    .dataframe tbody tr th {\n",
       "        vertical-align: top;\n",
       "    }\n",
       "\n",
       "    .dataframe thead th {\n",
       "        text-align: right;\n",
       "    }\n",
       "</style>\n",
       "<table border=\"1\" class=\"dataframe\">\n",
       "  <thead>\n",
       "    <tr style=\"text-align: right;\">\n",
       "      <th></th>\n",
       "      <th>0</th>\n",
       "      <th>1</th>\n",
       "    </tr>\n",
       "  </thead>\n",
       "  <tbody>\n",
       "    <tr>\n",
       "      <th>0</th>\n",
       "      <td>2020-07-14 12:52:37+00:00</td>\n",
       "      <td>Replying to @lennycurry I would agree if we we...</td>\n",
       "    </tr>\n",
       "    <tr>\n",
       "      <th>1</th>\n",
       "      <td>2020-07-14 12:52:36+00:00</td>\n",
       "      <td>BLACK LIVES MATTER.. ESPECIALLY ALL OF THE BLA...</td>\n",
       "    </tr>\n",
       "    <tr>\n",
       "      <th>2</th>\n",
       "      <td>2020-07-14 12:52:35+00:00</td>\n",
       "      <td>Not to Black Lives Matter, learn political ide...</td>\n",
       "    </tr>\n",
       "    <tr>\n",
       "      <th>3</th>\n",
       "      <td>2020-07-14 12:52:34+00:00</td>\n",
       "      <td>Black DA Blasts Black Lives Matter for Targeti...</td>\n",
       "    </tr>\n",
       "    <tr>\n",
       "      <th>4</th>\n",
       "      <td>2020-07-14 12:52:33+00:00</td>\n",
       "      <td>How many black people were killed when Africa ...</td>\n",
       "    </tr>\n",
       "  </tbody>\n",
       "</table>\n",
       "</div>"
      ],
      "text/plain": [
       "                          0                                                  1\n",
       "0 2020-07-14 12:52:37+00:00  Replying to @lennycurry I would agree if we we...\n",
       "1 2020-07-14 12:52:36+00:00  BLACK LIVES MATTER.. ESPECIALLY ALL OF THE BLA...\n",
       "2 2020-07-14 12:52:35+00:00  Not to Black Lives Matter, learn political ide...\n",
       "3 2020-07-14 12:52:34+00:00  Black DA Blasts Black Lives Matter for Targeti...\n",
       "4 2020-07-14 12:52:33+00:00  How many black people were killed when Africa ..."
      ]
     },
     "execution_count": 61,
     "metadata": {},
     "output_type": "execute_result"
    }
   ],
   "source": [
    "# tweets contain 2 columns time and tweet\n",
    "# formatting into DataFrame \n",
    "tweet_in = [[i.date, i.text] for i in tweet]\n",
    "input = pd.DataFrame(tweet_in)\n",
    "input.head() # new DataFrame"
   ]
  },
  {
   "cell_type": "code",
   "execution_count": 62,
   "metadata": {
    "colab": {},
    "colab_type": "code",
    "id": "LbtcoAIwZXf2"
   },
   "outputs": [],
   "source": [
    "# creating an object and predicting the tweets from input data\n",
    "k = final_dtree.predict(tfidf.transform(input.iloc[:,1]))"
   ]
  },
  {
   "cell_type": "code",
   "execution_count": 63,
   "metadata": {
    "colab": {},
    "colab_type": "code",
    "id": "ecB10mdUZaJx"
   },
   "outputs": [],
   "source": [
    "# adding predicted labels to the input data\n",
    "input['label'] = pd.DataFrame(k)"
   ]
  },
  {
   "cell_type": "code",
   "execution_count": 64,
   "metadata": {
    "colab": {
     "base_uri": "https://localhost:8080/",
     "height": 195
    },
    "colab_type": "code",
    "id": "OBcm9q1HfHDB",
    "outputId": "4859ef01-8228-476b-80c7-a30662b4eab0"
   },
   "outputs": [
    {
     "data": {
      "text/html": [
       "<div>\n",
       "<style scoped>\n",
       "    .dataframe tbody tr th:only-of-type {\n",
       "        vertical-align: middle;\n",
       "    }\n",
       "\n",
       "    .dataframe tbody tr th {\n",
       "        vertical-align: top;\n",
       "    }\n",
       "\n",
       "    .dataframe thead th {\n",
       "        text-align: right;\n",
       "    }\n",
       "</style>\n",
       "<table border=\"1\" class=\"dataframe\">\n",
       "  <thead>\n",
       "    <tr style=\"text-align: right;\">\n",
       "      <th></th>\n",
       "      <th>0</th>\n",
       "      <th>1</th>\n",
       "      <th>label</th>\n",
       "    </tr>\n",
       "  </thead>\n",
       "  <tbody>\n",
       "    <tr>\n",
       "      <th>0</th>\n",
       "      <td>2020-07-14 12:52:37+00:00</td>\n",
       "      <td>Replying to @lennycurry I would agree if we we...</td>\n",
       "      <td>1</td>\n",
       "    </tr>\n",
       "    <tr>\n",
       "      <th>1</th>\n",
       "      <td>2020-07-14 12:52:36+00:00</td>\n",
       "      <td>BLACK LIVES MATTER.. ESPECIALLY ALL OF THE BLA...</td>\n",
       "      <td>1</td>\n",
       "    </tr>\n",
       "    <tr>\n",
       "      <th>2</th>\n",
       "      <td>2020-07-14 12:52:35+00:00</td>\n",
       "      <td>Not to Black Lives Matter, learn political ide...</td>\n",
       "      <td>1</td>\n",
       "    </tr>\n",
       "    <tr>\n",
       "      <th>3</th>\n",
       "      <td>2020-07-14 12:52:34+00:00</td>\n",
       "      <td>Black DA Blasts Black Lives Matter for Targeti...</td>\n",
       "      <td>1</td>\n",
       "    </tr>\n",
       "    <tr>\n",
       "      <th>4</th>\n",
       "      <td>2020-07-14 12:52:33+00:00</td>\n",
       "      <td>How many black people were killed when Africa ...</td>\n",
       "      <td>0</td>\n",
       "    </tr>\n",
       "  </tbody>\n",
       "</table>\n",
       "</div>"
      ],
      "text/plain": [
       "                          0  \\\n",
       "0 2020-07-14 12:52:37+00:00   \n",
       "1 2020-07-14 12:52:36+00:00   \n",
       "2 2020-07-14 12:52:35+00:00   \n",
       "3 2020-07-14 12:52:34+00:00   \n",
       "4 2020-07-14 12:52:33+00:00   \n",
       "\n",
       "                                                   1  label  \n",
       "0  Replying to @lennycurry I would agree if we we...      1  \n",
       "1  BLACK LIVES MATTER.. ESPECIALLY ALL OF THE BLA...      1  \n",
       "2  Not to Black Lives Matter, learn political ide...      1  \n",
       "3  Black DA Blasts Black Lives Matter for Targeti...      1  \n",
       "4  How many black people were killed when Africa ...      0  "
      ]
     },
     "execution_count": 64,
     "metadata": {},
     "output_type": "execute_result"
    }
   ],
   "source": [
    "# visualizing newly created columns\n",
    "input.head()"
   ]
  },
  {
   "cell_type": "code",
   "execution_count": 65,
   "metadata": {
    "colab": {
     "base_uri": "https://localhost:8080/",
     "height": 67
    },
    "colab_type": "code",
    "id": "LStTlsJjIvLx",
    "outputId": "55c41632-3a63-4fbb-cb86-f3b59554892e"
   },
   "outputs": [
    {
     "data": {
      "text/plain": [
       "1    254\n",
       "0     46\n",
       "Name: label, dtype: int64"
      ]
     },
     "execution_count": 65,
     "metadata": {},
     "output_type": "execute_result"
    }
   ],
   "source": [
    "# Checking value_counts()\n",
    "input.label.value_counts()"
   ]
  },
  {
   "cell_type": "code",
   "execution_count": 66,
   "metadata": {
    "colab": {
     "base_uri": "https://localhost:8080/",
     "height": 296
    },
    "colab_type": "code",
    "id": "lbS8-9CdKY0m",
    "outputId": "7b13bda8-8e49-4995-fe66-d34c001a114a"
   },
   "outputs": [
    {
     "data": {
      "text/plain": [
       "<matplotlib.axes._subplots.AxesSubplot at 0x206dfd13fc8>"
      ]
     },
     "execution_count": 66,
     "metadata": {},
     "output_type": "execute_result"
    },
    {
     "data": {
      "image/png": "[encoded data removed]",
      "text/plain": [
       "<Figure size 432x288 with 1 Axes>"
      ]
     },
     "metadata": {
      "needs_background": "light"
     },
     "output_type": "display_data"
    }
   ],
   "source": [
    "# Visualizing predicted column\n",
    "sns.countplot(input.label)"
   ]
  },
  {
   "cell_type": "markdown",
   "metadata": {
    "colab_type": "text",
    "id": "S0zEB3IFKmcY"
   },
   "source": [
    "#### Observations:\n",
    "    '0' represents Positve\n",
    "    '1' represents Negative\n",
    "    Negative Tweets are more than Positive tweets "
   ]
  },
  {
   "cell_type": "code",
   "execution_count": 67,
   "metadata": {
    "colab": {
     "base_uri": "https://localhost:8080/",
     "height": 265
    },
    "colab_type": "code",
    "id": "gJMfZ10EfWjg",
    "outputId": "d631cc0f-9987-4336-f68b-dfc289cd0d04"
   },
   "outputs": [
    {
     "data": {
      "text/plain": [
       "<matplotlib.legend.Legend at 0x206df5e8248>"
      ]
     },
     "execution_count": 67,
     "metadata": {},
     "output_type": "execute_result"
    },
    {
     "data": {
      "image/png": "[encoded data removed]",
      "text/plain": [
       "<Figure size 432x288 with 1 Axes>"
      ]
     },
     "metadata": {},
     "output_type": "display_data"
    }
   ],
   "source": [
    "# Plotting on pie chart\n",
    "import matplotlib.pyplot as plt\n",
    "%matplotlib inline\n",
    "input.label.value_counts().plot.pie(labels=['Negative','Positive']).legend(labels=['Negative','Positive']\n",
    "                                           ,\n",
    "                                           bbox_to_anchor=(2.25,0.5))"
   ]
  },
  {
   "cell_type": "markdown",
   "metadata": {
    "colab_type": "text",
    "id": "JcaFA-WPLPz6"
   },
   "source": [
    "#### Observations:\n",
    "    Negative tweets are more in number than positive tweets"
   ]
  },
  {
   "cell_type": "code",
   "execution_count": null,
   "metadata": {
    "colab": {},
    "colab_type": "code",
    "id": "VHtw2UUWEU4r"
   },
   "outputs": [],
   "source": []
  }
 ],
 "metadata": {
  "accelerator": "GPU",
  "colab": {
   "collapsed_sections": [],
   "name": "Twitter _Sentiment_Analysis.ipynb",
   "provenance": []
  },
  "kernelspec": {
   "display_name": "Python 3",
   "language": "python",
   "name": "python3"
  },
  "language_info": {
   "codemirror_mode": {
    "name": "ipython",
    "version": 3
   },
   "file_extension": ".py",
   "mimetype": "text/x-python",
   "name": "python",
   "nbconvert_exporter": "python",
   "pygments_lexer": "ipython3",
   "version": "3.7.6"
  }
 },
 "nbformat": 4,
 "nbformat_minor": 1
}
